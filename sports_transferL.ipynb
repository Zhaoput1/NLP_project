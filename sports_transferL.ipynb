{
 "cells": [
  {
   "cell_type": "code",
   "execution_count": 1,
   "metadata": {},
   "outputs": [],
   "source": [
    "import numpy as np\n",
    "import tensorflow_datasets as tfds\n",
    "import tensorflow as tf\n",
    "tfds.disable_progress_bar()\n",
    "import collections\n",
    "import pathlib\n",
    "import re\n",
    "import string\n",
    "from tensorflow.keras import layers\n",
    "from tensorflow.keras import losses\n",
    "from tensorflow.keras import preprocessing\n",
    "from tensorflow.keras import utils\n",
    "from tensorflow.keras.layers.experimental.preprocessing import TextVectorization\n",
    "import matplotlib.pyplot as plt\n",
    "import tensorflow_text as tf_text\n",
    "from tensorflow import keras"
   ]
  },
  {
   "cell_type": "code",
   "execution_count": 2,
   "metadata": {},
   "outputs": [],
   "source": [
    "tfds.disable_progress_bar()\n",
    "\n",
    "def plot_graphs(history, metric):   #define a function to plot the history graph with accuracy and loss\n",
    "    plt.plot(history.history[metric])\n",
    "    plt.plot(history.history['val_'+metric], '')\n",
    "    plt.xlabel(\"Epochs\")\n",
    "    plt.ylabel(metric)\n",
    "    plt.legend([metric, 'val_'+metric])"
   ]
  },
  {
   "cell_type": "code",
   "execution_count": 3,
   "metadata": {},
   "outputs": [
    {
     "name": "stdout",
     "output_type": "stream",
     "text": [
      "Found 737 files belonging to 5 classes.\n",
      "Using 590 files for training.\n"
     ]
    }
   ],
   "source": [
    "#batch_size = 32\n",
    "seed = 42 #set seed\n",
    "\n",
    "train_dataset = preprocessing.text_dataset_from_directory( #separate the dataset to training dataset and test dataset\n",
    "    'bbcsport',\n",
    "#    batch_size=batch_size,\n",
    "    validation_split=0.2,\n",
    "    subset='training',\n",
    "    seed=seed)"
   ]
  },
  {
   "cell_type": "code",
   "execution_count": 4,
   "metadata": {},
   "outputs": [
    {
     "name": "stdout",
     "output_type": "stream",
     "text": [
      "Found 737 files belonging to 5 classes.\n",
      "Using 147 files for validation.\n"
     ]
    }
   ],
   "source": [
    "test_dataset = preprocessing.text_dataset_from_directory(\n",
    "    'bbcsport',\n",
    "#    batch_size=batch_size,\n",
    "    validation_split=.2,\n",
    "    subset='validation',\n",
    "    seed=seed)"
   ]
  },
  {
   "cell_type": "code",
   "execution_count": 5,
   "metadata": {},
   "outputs": [],
   "source": [
    "import tensorflow_hub as hub\n",
    "\n",
    "embed = hub.load(\"https://tfhub.dev/google/Wiki-words-500-with-normalization/2\")\n"
   ]
  },
  {
   "cell_type": "code",
   "execution_count": 7,
   "metadata": {},
   "outputs": [],
   "source": [
    "hub_layer = hub.KerasLayer(embed, input_shape=[], dtype=tf.string)\n"
   ]
  },
  {
   "cell_type": "code",
   "execution_count": 10,
   "metadata": {},
   "outputs": [],
   "source": [
    "model = tf.keras.Sequential([\n",
    "    hub_layer,\n",
    "    tf.keras.layers.Dense(64, activation='relu'),\n",
    "    tf.keras.layers.Dense(5, activation='softmax')\n",
    "])"
   ]
  },
  {
   "cell_type": "code",
   "execution_count": 12,
   "metadata": {},
   "outputs": [],
   "source": [
    "model.compile(loss='sparse_categorical_crossentropy',\n",
    "              optimizer=tf.keras.optimizers.Adam(learning_rate=0.001),\n",
    "              metrics=['accuracy'])\n",
    "earlystopping_cb = keras.callbacks.EarlyStopping (patience=10, restore_best_weights=True) # set callbacks"
   ]
  },
  {
   "cell_type": "code",
   "execution_count": 13,
   "metadata": {
    "scrolled": true
   },
   "outputs": [
    {
     "name": "stdout",
     "output_type": "stream",
     "text": [
      "Epoch 1/50\n",
      "19/19 [==============================] - 3s 178ms/step - loss: 1.3601 - accuracy: 0.4508 - val_loss: 1.2059 - val_accuracy: 0.4558\n",
      "Epoch 2/50\n",
      "19/19 [==============================] - 4s 224ms/step - loss: 1.0778 - accuracy: 0.6847 - val_loss: 0.9856 - val_accuracy: 0.6871\n",
      "Epoch 3/50\n",
      "19/19 [==============================] - 3s 132ms/step - loss: 0.8952 - accuracy: 0.7373 - val_loss: 0.7839 - val_accuracy: 0.7755\n",
      "Epoch 4/50\n",
      "19/19 [==============================] - 3s 134ms/step - loss: 0.6831 - accuracy: 0.8373 - val_loss: 0.6454 - val_accuracy: 0.8776\n",
      "Epoch 5/50\n",
      "19/19 [==============================] - 2s 128ms/step - loss: 0.5538 - accuracy: 0.9034 - val_loss: 0.5540 - val_accuracy: 0.8707\n",
      "Epoch 6/50\n",
      "19/19 [==============================] - 2s 130ms/step - loss: 0.4622 - accuracy: 0.9220 - val_loss: 0.4529 - val_accuracy: 0.9456\n",
      "Epoch 7/50\n",
      "19/19 [==============================] - 2s 127ms/step - loss: 0.3903 - accuracy: 0.9525 - val_loss: 0.3953 - val_accuracy: 0.9320\n",
      "Epoch 8/50\n",
      "19/19 [==============================] - 2s 128ms/step - loss: 0.3353 - accuracy: 0.9542 - val_loss: 0.3485 - val_accuracy: 0.9388\n",
      "Epoch 9/50\n",
      "19/19 [==============================] - 3s 141ms/step - loss: 0.2903 - accuracy: 0.9695 - val_loss: 0.3071 - val_accuracy: 0.9592\n",
      "Epoch 10/50\n",
      "19/19 [==============================] - 3s 135ms/step - loss: 0.2602 - accuracy: 0.9593 - val_loss: 0.2756 - val_accuracy: 0.9592\n",
      "Epoch 11/50\n",
      "19/19 [==============================] - 4s 195ms/step - loss: 0.2284 - accuracy: 0.9712 - val_loss: 0.2377 - val_accuracy: 0.9728\n",
      "Epoch 12/50\n",
      "19/19 [==============================] - 3s 144ms/step - loss: 0.2009 - accuracy: 0.9746 - val_loss: 0.2219 - val_accuracy: 0.9660\n",
      "Epoch 13/50\n",
      "19/19 [==============================] - 3s 138ms/step - loss: 0.1841 - accuracy: 0.9814 - val_loss: 0.2034 - val_accuracy: 0.9660\n",
      "Epoch 14/50\n",
      "19/19 [==============================] - 3s 142ms/step - loss: 0.1670 - accuracy: 0.9847 - val_loss: 0.1939 - val_accuracy: 0.9728\n",
      "Epoch 15/50\n",
      "19/19 [==============================] - 3s 139ms/step - loss: 0.1589 - accuracy: 0.9780 - val_loss: 0.1752 - val_accuracy: 0.9796\n",
      "Epoch 16/50\n",
      "19/19 [==============================] - 4s 193ms/step - loss: 0.1355 - accuracy: 0.9898 - val_loss: 0.1622 - val_accuracy: 0.9728\n",
      "Epoch 17/50\n",
      "19/19 [==============================] - 3s 139ms/step - loss: 0.1283 - accuracy: 0.9898 - val_loss: 0.1480 - val_accuracy: 0.9728\n",
      "Epoch 18/50\n",
      "19/19 [==============================] - 3s 135ms/step - loss: 0.1231 - accuracy: 0.9881 - val_loss: 0.1363 - val_accuracy: 0.9728\n",
      "Epoch 19/50\n",
      "19/19 [==============================] - 3s 135ms/step - loss: 0.1092 - accuracy: 0.9881 - val_loss: 0.1287 - val_accuracy: 0.9864\n",
      "Epoch 20/50\n",
      "19/19 [==============================] - 0s 8ms/step - loss: 0.1047 - accuracy: 0.9864 - val_loss: 0.1394 - val_accuracy: 0.9728\n",
      "Epoch 21/50\n",
      "19/19 [==============================] - 3s 143ms/step - loss: 0.1031 - accuracy: 0.9864 - val_loss: 0.1138 - val_accuracy: 0.9796\n",
      "Epoch 22/50\n",
      "19/19 [==============================] - 3s 139ms/step - loss: 0.0913 - accuracy: 0.9915 - val_loss: 0.1112 - val_accuracy: 0.9796\n",
      "Epoch 23/50\n",
      "19/19 [==============================] - 3s 137ms/step - loss: 0.0915 - accuracy: 0.9831 - val_loss: 0.1097 - val_accuracy: 0.9864\n",
      "Epoch 24/50\n",
      "19/19 [==============================] - 3s 141ms/step - loss: 0.0754 - accuracy: 0.9915 - val_loss: 0.1057 - val_accuracy: 0.9796\n",
      "Epoch 25/50\n",
      "19/19 [==============================] - 3s 136ms/step - loss: 0.0761 - accuracy: 0.9932 - val_loss: 0.0932 - val_accuracy: 0.9864\n",
      "Epoch 26/50\n",
      "19/19 [==============================] - 3s 136ms/step - loss: 0.0684 - accuracy: 0.9949 - val_loss: 0.0928 - val_accuracy: 0.9864\n",
      "Epoch 27/50\n",
      "19/19 [==============================] - 0s 9ms/step - loss: 0.0653 - accuracy: 0.9932 - val_loss: 0.1000 - val_accuracy: 0.9796\n",
      "Epoch 28/50\n",
      "19/19 [==============================] - 3s 135ms/step - loss: 0.0684 - accuracy: 0.9915 - val_loss: 0.0895 - val_accuracy: 0.9864\n",
      "Epoch 29/50\n",
      "19/19 [==============================] - 2s 131ms/step - loss: 0.0569 - accuracy: 0.9966 - val_loss: 0.0797 - val_accuracy: 0.9932\n",
      "Epoch 30/50\n",
      "19/19 [==============================] - 3s 136ms/step - loss: 0.0528 - accuracy: 0.9983 - val_loss: 0.0762 - val_accuracy: 0.9864\n",
      "Epoch 31/50\n",
      "19/19 [==============================] - 0s 9ms/step - loss: 0.0569 - accuracy: 0.9932 - val_loss: 0.0827 - val_accuracy: 0.9864\n",
      "Epoch 32/50\n",
      "19/19 [==============================] - 0s 9ms/step - loss: 0.0493 - accuracy: 0.9983 - val_loss: 0.0799 - val_accuracy: 0.9864\n",
      "Epoch 33/50\n",
      "19/19 [==============================] - 0s 8ms/step - loss: 0.0562 - accuracy: 0.9932 - val_loss: 0.0777 - val_accuracy: 0.9864\n",
      "Epoch 34/50\n",
      "19/19 [==============================] - 3s 135ms/step - loss: 0.0521 - accuracy: 0.9949 - val_loss: 0.0647 - val_accuracy: 1.0000\n",
      "Epoch 35/50\n",
      "19/19 [==============================] - 3s 142ms/step - loss: 0.0447 - accuracy: 0.9983 - val_loss: 0.0608 - val_accuracy: 0.9932\n",
      "Epoch 36/50\n",
      "19/19 [==============================] - 0s 9ms/step - loss: 0.0433 - accuracy: 0.9932 - val_loss: 0.0701 - val_accuracy: 0.9932\n",
      "Epoch 37/50\n",
      "19/19 [==============================] - 3s 143ms/step - loss: 0.0435 - accuracy: 0.9983 - val_loss: 0.0577 - val_accuracy: 0.9932\n",
      "Epoch 38/50\n",
      "19/19 [==============================] - 3s 135ms/step - loss: 0.0377 - accuracy: 1.0000 - val_loss: 0.0569 - val_accuracy: 0.9864\n",
      "Epoch 39/50\n",
      "19/19 [==============================] - 3s 137ms/step - loss: 0.0365 - accuracy: 0.9983 - val_loss: 0.0542 - val_accuracy: 1.0000\n",
      "Epoch 40/50\n",
      "19/19 [==============================] - 3s 139ms/step - loss: 0.0339 - accuracy: 1.0000 - val_loss: 0.0532 - val_accuracy: 1.0000\n",
      "Epoch 41/50\n",
      "19/19 [==============================] - 3s 136ms/step - loss: 0.0341 - accuracy: 1.0000 - val_loss: 0.0529 - val_accuracy: 0.9932\n",
      "Epoch 42/50\n",
      "19/19 [==============================] - 0s 7ms/step - loss: 0.0303 - accuracy: 1.0000 - val_loss: 0.0559 - val_accuracy: 0.9864\n",
      "Epoch 43/50\n",
      "19/19 [==============================] - 2s 131ms/step - loss: 0.0332 - accuracy: 0.9983 - val_loss: 0.0484 - val_accuracy: 1.0000\n",
      "Epoch 44/50\n",
      "19/19 [==============================] - 0s 8ms/step - loss: 0.0283 - accuracy: 1.0000 - val_loss: 0.0500 - val_accuracy: 1.0000\n",
      "Epoch 45/50\n",
      "19/19 [==============================] - 3s 136ms/step - loss: 0.0281 - accuracy: 1.0000 - val_loss: 0.0467 - val_accuracy: 1.0000\n",
      "Epoch 46/50\n",
      "19/19 [==============================] - 0s 8ms/step - loss: 0.0256 - accuracy: 1.0000 - val_loss: 0.0478 - val_accuracy: 0.9932\n",
      "Epoch 47/50\n",
      "19/19 [==============================] - 3s 135ms/step - loss: 0.0289 - accuracy: 1.0000 - val_loss: 0.0444 - val_accuracy: 0.9932\n",
      "Epoch 48/50\n",
      "19/19 [==============================] - 3s 134ms/step - loss: 0.0283 - accuracy: 0.9983 - val_loss: 0.0442 - val_accuracy: 1.0000\n",
      "Epoch 49/50\n",
      "19/19 [==============================] - 0s 8ms/step - loss: 0.0238 - accuracy: 1.0000 - val_loss: 0.0467 - val_accuracy: 1.0000\n",
      "Epoch 50/50\n",
      "19/19 [==============================] - 0s 8ms/step - loss: 0.0228 - accuracy: 1.0000 - val_loss: 0.0447 - val_accuracy: 1.0000\n"
     ]
    }
   ],
   "source": [
    "history = model.fit(train_dataset, epochs=50,\n",
    "                    validation_data=test_dataset, \n",
    "                    validation_steps=5,\n",
    "                    callbacks=earlystopping_cb)"
   ]
  },
  {
   "cell_type": "code",
   "execution_count": 14,
   "metadata": {},
   "outputs": [
    {
     "name": "stdout",
     "output_type": "stream",
     "text": [
      "5/5 [==============================] - 0s 4ms/step - loss: 0.0447 - accuracy: 1.0000\n",
      "Test Loss: 0.044694337993860245\n",
      "Test Accuracy: 1.0\n"
     ]
    }
   ],
   "source": [
    "test_loss, test_acc = model.evaluate(test_dataset)  #result evaluation \n",
    "\n",
    "print('Test Loss: {}'.format(test_loss))\n",
    "print('Test Accuracy: {}'.format(test_acc))"
   ]
  },
  {
   "cell_type": "code",
   "execution_count": 15,
   "metadata": {},
   "outputs": [
    {
     "data": {
      "text/plain": [
       "(0.0, 1.426925616245717)"
      ]
     },
     "execution_count": 15,
     "metadata": {},
     "output_type": "execute_result"
    },
    {
     "data": {
      "image/png": "[encoded data removed]",
      "text/plain": [
       "<Figure size 1152x576 with 2 Axes>"
      ]
     },
     "metadata": {
      "needs_background": "light"
     },
     "output_type": "display_data"
    }
   ],
   "source": [
    "plt.figure(figsize=(16,8)) \n",
    "plt.subplot(1,2,1)\n",
    "plot_graphs(history, 'accuracy')\n",
    "plt.ylim(None,1)\n",
    "plt.subplot(1,2,2)\n",
    "plot_graphs(history, 'loss')\n",
    "plt.ylim(0,None)"
   ]
  },
  {
   "cell_type": "code",
   "execution_count": null,
   "metadata": {},
   "outputs": [],
   "source": []
  }
 ],
 "metadata": {
  "kernelspec": {
   "display_name": "Python 3",
   "language": "python",
   "name": "python3"
  },
  "language_info": {
   "codemirror_mode": {
    "name": "ipython",
    "version": 3
   },
   "file_extension": ".py",
   "mimetype": "text/x-python",
   "name": "python",
   "nbconvert_exporter": "python",
   "pygments_lexer": "ipython3",
   "version": "3.8.3"
  }
 },
 "nbformat": 4,
 "nbformat_minor": 4
}
